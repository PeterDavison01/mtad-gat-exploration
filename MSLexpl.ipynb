{
 "cells": [
  {
   "cell_type": "code",
   "execution_count": 39,
   "metadata": {},
   "outputs": [],
   "source": [
    "from ast import literal_eval\n",
    "from csv import reader\n",
    "from os import listdir, makedirs, path\n",
    "from pickle import dump\n",
    "import numpy as np\n",
    "\n",
    "from args import get_parser"
   ]
  },
  {
   "cell_type": "code",
   "execution_count": 40,
   "metadata": {},
   "outputs": [],
   "source": [
    "dataset_folder = \"datasets/data\"\n",
    "dataset = \"MSL\"\n",
    "with open(path.join(dataset_folder, \"labeled_anomalies.csv\"), \"r\") as file:\n",
    "    csv_reader = reader(file, delimiter=\",\")\n",
    "    res = [row for row in csv_reader][1:]\n",
    "res = sorted(res, key=lambda k: k[0])\n",
    "data_info = [row for row in res if row[1] == \"MSL\" and row[0] != \"P-2\"]\n",
    "labels = []"
   ]
  },
  {
   "cell_type": "code",
   "execution_count": 41,
   "metadata": {},
   "outputs": [
    {
     "name": "stdout",
     "output_type": "stream",
     "text": [
      "MSL test_label (73729,)\n"
     ]
    }
   ],
   "source": [
    "for row in data_info:\n",
    "    anomalies = literal_eval(row[2])\n",
    "    length = int(row[-1])\n",
    "    label = np.zeros([length], dtype=np.bool_)\n",
    "    for anomaly in anomalies:\n",
    "        label[anomaly[0] : anomaly[1] + 1] = True\n",
    "    labels.extend(label)\n",
    "\n",
    "labels = np.asarray(labels)\n",
    "print(dataset, \"test_label\", labels.shape)\n"
   ]
  },
  {
   "cell_type": "code",
   "execution_count": 42,
   "metadata": {},
   "outputs": [],
   "source": [
    "def concatenate_and_save(category):\n",
    "    data = []\n",
    "    for row in data_info:\n",
    "        filename = row[0]\n",
    "        temp = np.load(path.join(dataset_folder, category, filename + \".npy\"))\n",
    "        data.extend(temp)\n",
    "    data = np.asarray(data)\n",
    "    print(dataset, category, data.shape)\n",
    "    print(data)"
   ]
  },
  {
   "cell_type": "code",
   "execution_count": 43,
   "metadata": {},
   "outputs": [
    {
     "name": "stdout",
     "output_type": "stream",
     "text": [
      "MSL train (58317, 55)\n",
      "[[2.14664587 0.         0.         ... 0.         0.         0.        ]\n",
      " [2.14664587 0.         0.         ... 0.         0.         0.        ]\n",
      " [2.14664587 0.         0.         ... 0.         0.         0.        ]\n",
      " ...\n",
      " [0.33333784 0.         0.         ... 0.         0.         0.        ]\n",
      " [0.33333784 0.         0.         ... 0.         0.         0.        ]\n",
      " [0.33333784 0.         0.         ... 0.         0.         0.        ]]\n",
      "MSL test (73729, 55)\n",
      "[[-0.94695788  0.          0.         ...  0.          0.\n",
      "   0.        ]\n",
      " [-0.94227769  0.          0.         ...  0.          0.\n",
      "   0.        ]\n",
      " [-0.93603744  0.          0.         ...  0.          0.\n",
      "   0.        ]\n",
      " ...\n",
      " [ 0.50122056  0.          0.         ...  0.          0.\n",
      "   0.        ]\n",
      " [ 0.50122056  0.          0.         ...  0.          0.\n",
      "   0.        ]\n",
      " [-0.95421168  0.          0.         ...  0.          0.\n",
      "   0.        ]]\n"
     ]
    }
   ],
   "source": [
    "for c in [\"train\", \"test\"]:\n",
    "    concatenate_and_save(c)"
   ]
  },
  {
   "cell_type": "code",
   "execution_count": 44,
   "metadata": {},
   "outputs": [
    {
     "name": "stdout",
     "output_type": "stream",
     "text": [
      "MSL test_label (73729,)\n",
      "MSL train (58317, 55)\n"
     ]
    },
    {
     "name": "stdout",
     "output_type": "stream",
     "text": [
      "MSL test (73729, 55)\n"
     ]
    }
   ],
   "source": [
    "from preprocess import load_data\n",
    "\n",
    "load_data('MSL')"
   ]
  },
  {
   "cell_type": "code",
   "execution_count": 45,
   "metadata": {},
   "outputs": [
    {
     "name": "stdout",
     "output_type": "stream",
     "text": [
      "load data of: MSL\n",
      "train:  0 None\n",
      "test:  0 None\n",
      "Data normalized\n",
      "Data normalized\n",
      "train set shape:  (58317, 55)\n",
      "test set shape:  (73729, 55)\n",
      "test set label shape:  (73729,)\n"
     ]
    }
   ],
   "source": [
    "from utils import get_data\n",
    "\n",
    "(x_train, _), (x_test, y_test) = get_data('MSL', normalize=True)"
   ]
  },
  {
   "cell_type": "code",
   "execution_count": 46,
   "metadata": {},
   "outputs": [
    {
     "data": {
      "text/plain": [
       "5831.0"
      ]
     },
     "execution_count": 46,
     "metadata": {},
     "output_type": "execute_result"
    }
   ],
   "source": [
    "np.floor(len(x_train)*0.1)"
   ]
  }
 ],
 "metadata": {
  "kernelspec": {
   "display_name": "mtadgatvenv",
   "language": "python",
   "name": "mtadgatvenv"
  },
  "language_info": {
   "codemirror_mode": {
    "name": "ipython",
    "version": 3
   },
   "file_extension": ".py",
   "mimetype": "text/x-python",
   "name": "python",
   "nbconvert_exporter": "python",
   "pygments_lexer": "ipython3",
   "version": "3.10.12"
  }
 },
 "nbformat": 4,
 "nbformat_minor": 2
}
